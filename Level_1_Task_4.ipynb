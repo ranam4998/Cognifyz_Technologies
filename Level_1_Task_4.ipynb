{
 "cells": [
  {
   "cell_type": "code",
   "execution_count": 1,
   "id": "1e83c926-7dee-4aa2-9bbf-cacaa6cc4788",
   "metadata": {},
   "outputs": [],
   "source": [
    "import pandas as pd\n",
    "import numpy as np\n",
    "import matplotlib.pyplot as plt\n",
    "df=pd.read_csv('Dataset.csv')"
   ]
  },
  {
   "cell_type": "code",
   "execution_count": 2,
   "id": "ce2e91df-55b0-4a7c-9bde-b01feb2c28cc",
   "metadata": {},
   "outputs": [
    {
     "name": "stdout",
     "output_type": "stream",
     "text": [
      "Index(['Restaurant ID', 'Restaurant Name', 'Country Code', 'City', 'Address',\n",
      "       'Locality', 'Locality Verbose', 'Longitude', 'Latitude', 'Cuisines',\n",
      "       'Average Cost for two', 'Currency', 'Has Table booking',\n",
      "       'Has Online delivery', 'Is delivering now', 'Switch to order menu',\n",
      "       'Price range', 'Aggregate rating', 'Rating color', 'Rating text',\n",
      "       'Votes'],\n",
      "      dtype='object')\n"
     ]
    }
   ],
   "source": [
    "print(df.columns)"
   ]
  },
  {
   "cell_type": "code",
   "execution_count": null,
   "id": "6dcdcf35-d72e-4c53-beba-2fd3f4cc0a46",
   "metadata": {},
   "outputs": [],
   "source": [
    "#Determine the percentage of restaurants that offer online delivery."
   ]
  },
  {
   "cell_type": "code",
   "execution_count": 12,
   "id": "9b6d7449-da06-4790-85f1-a184052bbebe",
   "metadata": {},
   "outputs": [
    {
     "name": "stdout",
     "output_type": "stream",
     "text": [
      "Total restaurant with online delivery : 2451\n"
     ]
    }
   ],
   "source": [
    "online_delivery = df['Has Online delivery'].value_counts().get('Yes', 0)\n",
    "print('Total restaurant with online delivery :',online_delivery)"
   ]
  },
  {
   "cell_type": "code",
   "execution_count": 13,
   "id": "ce3a1b37-e40a-4acc-9996-d7d214fe6f9d",
   "metadata": {},
   "outputs": [
    {
     "name": "stdout",
     "output_type": "stream",
     "text": [
      "Total restaurant with online delivery : 7100\n"
     ]
    }
   ],
   "source": [
    " no = df['Has Online delivery'].value_counts().get('No', 0)\n",
    "print('Total restaurant with online delivery :',no)"
   ]
  },
  {
   "cell_type": "code",
   "execution_count": 14,
   "id": "c53d07e1-f269-4d14-8443-890f24e8a2dc",
   "metadata": {},
   "outputs": [
    {
     "name": "stdout",
     "output_type": "stream",
     "text": [
      "Total % of online delivery : 25.66\n"
     ]
    }
   ],
   "source": [
    "row_count=len(df)\n",
    "percentage_of_online_delivery=round((online_delivery/row_count)*100,2)\n",
    "print('Total % of online delivery :', percentage_of_online_delivery)"
   ]
  },
  {
   "cell_type": "code",
   "execution_count": 17,
   "id": "33ee6f5b-c10a-4821-8534-5c84a663a24a",
   "metadata": {},
   "outputs": [
    {
     "name": "stdout",
     "output_type": "stream",
     "text": [
      "Total % of Offline Delivery : 74.34\n"
     ]
    }
   ],
   "source": [
    "percentage_of_offline_delivery = round((no/row_count)*100,2)\n",
    "print('Total % of Offline Delivery :', percentage_of_offline_delivery)"
   ]
  },
  {
   "cell_type": "code",
   "execution_count": null,
   "id": "e4ff92d5-30ca-4aeb-9a13-deab20e06b91",
   "metadata": {},
   "outputs": [],
   "source": [
    "#Compare the average ratings of restaurants with and without online delivery."
   ]
  },
  {
   "cell_type": "code",
   "execution_count": 18,
   "id": "dd4f786e-79ec-44a5-8498-8b3dbc89ff98",
   "metadata": {},
   "outputs": [
    {
     "name": "stdout",
     "output_type": "stream",
     "text": [
      "Average rating with online delivery: 3.25\n"
     ]
    }
   ],
   "source": [
    "avg_rating_yes= round(df[df['Has Online delivery']=='Yes']['Aggregate rating'].mean(),2)\n",
    "print('Average rating with online delivery:', avg_rating_yes)"
   ]
  },
  {
   "cell_type": "code",
   "execution_count": 19,
   "id": "00cb2849-94be-4786-88d4-89be88603251",
   "metadata": {},
   "outputs": [
    {
     "name": "stdout",
     "output_type": "stream",
     "text": [
      "Average rating without online delivery: 2.47\n"
     ]
    }
   ],
   "source": [
    "avg_rating_No= round(df[df['Has Online delivery']=='No']['Aggregate rating'].mean(),2)\n",
    "print('Average rating without online delivery:', avg_rating_No)"
   ]
  },
  {
   "cell_type": "code",
   "execution_count": 24,
   "id": "cf459bd9-ef60-4582-835e-cd084cf069b5",
   "metadata": {},
   "outputs": [
    {
     "data": {
      "image/png": "[encoded data removed]",
      "text/plain": [
       "<Figure size 640x480 with 1 Axes>"
      ]
     },
     "metadata": {},
     "output_type": "display_data"
    }
   ],
   "source": [
    "label =['Yes', 'No']\n",
    "average_rating=[avg_rating_yes, avg_rating_No]\n",
    "colors='Green','Yellow'\n",
    "plt.barh(label, average_rating, color=colors)\n",
    "plt.xlabel('Average Rating')\n",
    "plt.ylabel('Online delivery')\n",
    "plt.title('comparison of average ratings of online delivery')\n",
    "plt.show()"
   ]
  }
 ],
 "metadata": {
  "kernelspec": {
   "display_name": "Python 3 (ipykernel)",
   "language": "python",
   "name": "python3"
  },
  "language_info": {
   "codemirror_mode": {
    "name": "ipython",
    "version": 3
   },
   "file_extension": ".py",
   "mimetype": "text/x-python",
   "name": "python",
   "nbconvert_exporter": "python",
   "pygments_lexer": "ipython3",
   "version": "3.13.0"
  }
 },
 "nbformat": 4,
 "nbformat_minor": 5
}
