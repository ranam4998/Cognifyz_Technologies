{
 "cells": [
  {
   "cell_type": "code",
   "execution_count": 1,
   "id": "66ec9de0-dcde-41c9-8dba-e82a659df9b5",
   "metadata": {},
   "outputs": [],
   "source": [
    "import pandas as pd\n",
    "import numpy as np\n",
    "import matplotlib.pyplot as plt\n",
    "df=pd.read_csv('Dataset.csv')"
   ]
  },
  {
   "cell_type": "code",
   "execution_count": null,
   "id": "0a291ac3-fbb5-4423-ac71-e2dd9e504848",
   "metadata": {},
   "outputs": [],
   "source": [
    "#Task 2: Cuisine Combination\n",
    "#Identify the most common combinations ofcuisines in the dataset."
   ]
  },
  {
   "cell_type": "code",
   "execution_count": 3,
   "id": "6d9d320a-363f-4197-9b52-7954e115271b",
   "metadata": {},
   "outputs": [
    {
     "name": "stdout",
     "output_type": "stream",
     "text": [
      "Top 10 most combinations are : Cuisines\n",
      "Burger, Bar Food, Steak            4.9\n",
      "American, Burger, Grill            4.9\n",
      "American, Caribbean, Seafood       4.9\n",
      "American, Coffee and Tea           4.9\n",
      "Mexican, American, Healthy Food    4.9\n",
      "Italian, Bakery, Continental       4.9\n",
      "BBQ, Breakfast, Southern           4.9\n",
      "European, German                   4.9\n",
      "Hawaiian, Seafood                  4.9\n",
      "Sunda, Indonesian                  4.9\n",
      "Name: Aggregate rating, dtype: float64\n"
     ]
    }
   ],
   "source": [
    "common_combination=df.groupby('Cuisines')['Aggregate rating'].mean().sort_values(ascending=False)\n",
    "top10=common_combination.head(10)\n",
    "print('Top 10 most combinations are :',top10)    "
   ]
  },
  {
   "cell_type": "code",
   "execution_count": null,
   "id": "615880eb-c6e4-406a-a557-f6f61fc89fdd",
   "metadata": {},
   "outputs": [],
   "source": [
    "#Determine if certain cuisine combinationstend to have higher ratings."
   ]
  },
  {
   "cell_type": "code",
   "execution_count": 16,
   "id": "ccd238a4-e860-421b-9fe6-03024230df41",
   "metadata": {},
   "outputs": [
    {
     "name": "stdout",
     "output_type": "stream",
     "text": [
      "The max rating is : 4.9\n"
     ]
    }
   ],
   "source": [
    "max_rating = common_combination.max()\n",
    "print('The max rating is :', max_rating)"
   ]
  },
  {
   "cell_type": "code",
   "execution_count": 17,
   "id": "8150ff63-214f-49da-b0df-c3f796072edc",
   "metadata": {},
   "outputs": [
    {
     "name": "stdout",
     "output_type": "stream",
     "text": [
      "Restaurants having the maximun rating : 3                                           Ooma\n",
      "8       Spiral - Sofitel Philippine Plaza Manila\n",
      "10                              Silantro Fil-Mex\n",
      "39                                    Coco Bambu\n",
      "48                            Braseiro da G��vea\n",
      "                          ...                   \n",
      "9484              Restaurant Mosaic @ The Orient\n",
      "9514                            Ministry of Crab\n",
      "9524                                Gaga Manjero\n",
      "9538                                   Starbucks\n",
      "9540                            Draft Gastro Pub\n",
      "Name: Restaurant Name, Length: 61, dtype: object\n"
     ]
    }
   ],
   "source": [
    "max_rated_rest=df.loc[df['Aggregate rating'] == max_rating]\n",
    "print('Restaurants having the maximun rating :', max_rated_rest['Restaurant Name'])"
   ]
  }
 ],
 "metadata": {
  "kernelspec": {
   "display_name": "Python 3 (ipykernel)",
   "language": "python",
   "name": "python3"
  },
  "language_info": {
   "codemirror_mode": {
    "name": "ipython",
    "version": 3
   },
   "file_extension": ".py",
   "mimetype": "text/x-python",
   "name": "python",
   "nbconvert_exporter": "python",
   "pygments_lexer": "ipython3",
   "version": "3.13.0"
  }
 },
 "nbformat": 4,
 "nbformat_minor": 5
}
